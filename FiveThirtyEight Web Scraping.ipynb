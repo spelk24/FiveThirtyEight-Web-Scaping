{
 "cells": [
  {
   "cell_type": "markdown",
   "metadata": {
    "nbgrader": {
     "grade": false,
     "locked": true,
     "solution": false
    }
   },
   "source": [
    "# Scraping data from \"FiveThirtyEight\"\n",
    "\n",
    "FiveThirtyEight is by far my favorite site. I read just about all of their content in politics, sports, culture, econ, etc. One of the best things about FiveThirtyEigth is that they post a ton of their data, specifically on GitHub (https://github.com/fivethirtyeight/data). In this notebook, instead of pulling data from their GitHub repository, I'm going to scrape it from the underlying HTML code. \n",
    "\n",
    "If you're a follower of FiveThirtyEight, you've probably seen this VIZ before. It's always on the side bar of their homepage."
   ]
  },
  {
   "cell_type": "markdown",
   "metadata": {
    "nbgrader": {
     "grade": false,
     "locked": true,
     "solution": false
    }
   },
   "source": [
    "\n",
    "![538 DJT Approval Meter](https://cse6040.gatech.edu/datasets/538-djt-pop/538-demo.png)\n"
   ]
  },
  {
   "cell_type": "markdown",
   "metadata": {
    "nbgrader": {
     "grade": false,
     "locked": true,
     "solution": false
    }
   },
   "source": [
    "# Defining the Task\n",
    "\n",
    "The visual journalists at FiveThirtyEight do a remarkable job. I rarely find a VIZ of theirs that I don't love. For this exercise, I'm going to scrape the data behind the VIZ above, and put it into a readily useful format in pandas (and maybe do some VIZ work at the end).\n"
   ]
  },
  {
   "cell_type": "markdown",
   "metadata": {
    "nbgrader": {
     "grade": false,
     "locked": true,
     "solution": false
    }
   },
   "source": [
    "# Downloading and Extracting the HTML\n",
    "\n",
    "The raw contents of the HTML have been put into a PDF- which I'll then store in a variable - `raw_html`. The included has a most recent date of September 6th, 2018 for the approval rating.\n"
   ]
  },
  {
   "cell_type": "code",
   "execution_count": 1,
   "metadata": {
    "nbgrader": {
     "grade": false,
     "locked": true,
     "solution": false
    }
   },
   "outputs": [
    {
     "name": "stdout",
     "output_type": "stream",
     "text": [
      "'2018-09-06.html' is ready!\n",
      "\n",
      "(All data appears to be ready.)\n"
     ]
    }
   ],
   "source": [
    "def download(url, local_file, overwrite=False):\n",
    "    import os, requests\n",
    "    if not os.path.exists(local_file) or overwrite:\n",
    "        print(\"Downloading: {} ...\".format(url))\n",
    "        r = requests.get(url)\n",
    "        with open(local_file, 'wb') as f:\n",
    "            f.write(r.content)\n",
    "        return True\n",
    "    return False # File existed already\n",
    "\n",
    "def get_checksum(local_file):\n",
    "    import io, hashlib\n",
    "    with io.open(local_file, 'rb') as f:\n",
    "        body = f.read()\n",
    "        body_checksum = hashlib.md5(body).hexdigest()\n",
    "        return body_checksum\n",
    "\n",
    "def download_or_load_locally(file, local_dir=\"\", url_base=None, checksum=None):\n",
    "    if url_base is None: url_base = \"https://cse6040.gatech.edu/datasets/\"\n",
    "    local_file = \"{}{}\".format(local_dir, file)\n",
    "    remote_url = \"{}{}\".format(url_base, file)\n",
    "    download(remote_url, local_file)\n",
    "    if checksum is not None:\n",
    "        body_checksum = get_checksum(local_file)\n",
    "        assert body_checksum == checksum, \\\n",
    "            \"Downloaded file '{}' has incorrect checksum: '{}' instead of '{}'\".format(local_file,\n",
    "                                                                                       body_checksum,\n",
    "                                                                                       checksum)        \n",
    "    print(\"'{}' is ready!\".format(file))\n",
    "    \n",
    "def on_vocareum():\n",
    "    import os\n",
    "    return os.path.exists('.voc')\n",
    "\n",
    "if on_vocareum():\n",
    "    URL_BASE = None\n",
    "    DATA_PATH = \"../resource/asnlib/publicdata/538-djt-pop/\"\n",
    "else:\n",
    "    URL_BASE = \"https://cse6040.gatech.edu/datasets/538-djt-pop/\"\n",
    "    DATA_PATH = \"\"\n",
    "datasets = {'2018-09-06.html': '291a7c1cbf15575a48b0be8d77b7a1d6'}\n",
    "\n",
    "for filename, checksum in datasets.items():\n",
    "    download_or_load_locally(filename, url_base=URL_BASE, local_dir=DATA_PATH, checksum=checksum)\n",
    "\n",
    "with open('{}{}'.format(DATA_PATH, '2018-09-06.html')) as fp:\n",
    "    raw_html = fp.read()\n",
    "print(\"\\n(All data appears to be ready.)\")"
   ]
  },
  {
   "cell_type": "markdown",
   "metadata": {
    "nbgrader": {
     "grade": false,
     "locked": true,
     "solution": false
    }
   },
   "source": [
    "**File snippets.** I don't need all of the data in the PDF, so I'm only going to extract what I need - which starts at page 50"
   ]
  },
  {
   "cell_type": "code",
   "execution_count": 2,
   "metadata": {
    "nbgrader": {
     "grade": false,
     "locked": true,
     "solution": false
    }
   },
   "outputs": [
    {
     "name": "stdout",
     "output_type": "stream",
     "text": [
      "Page = {};\n",
      "interactivePage.navSlug = 'approval';\n",
      "var pathPrefix=\"/trump-approval-ratings/\";\n",
      "var subgroup=\"All polls\";\n",
      "var showMoreCutoff=5;\n",
      "var approval=[{\"date\":\"2017-01-23\",\"future\":false,\"subgroup\":\"All polls\",\"approve_estimate\":\"45.46693\",\"approve_hi\":\"50.88971\",\"approve_lo\":\"40.04416\",\"disapprove_estimate\":\"41.26452\",\"disapprove_hi\":\"46.68729\",\"disapprove_lo\":\"35.84175\"},{\"date\":\"2017-01-24\",\"future\":false,\"subgroup\":\"All polls\",\"approve_estimate\":\"45.44264\",\"approve_hi\":\"50.82922\",\"approve_lo\":\"40.05606\",\"disapprove_estimate\":\"41.87849\",\"disapprove_hi\":\"47.26508\",\"disapprove_lo\":\"36.49191\"},{\"date\":\"2017-01-25\",\"future\":false,\"subgroup\":\"All polls\",\"approve_estimate\":\"47.76497\",\"approve_hi\":\"52.66397\",\"approve_lo\":\"42.86596\",\"disapprove_estimate\":\"42.52911\",\"disapprove_hi\":\"47.42811\",\"disapprove_lo\":\"37.63011\"},{\"date\":\"2017-01-26\",\"future\":false,\"subgroup\":\"All polls\",\"approve_estimate\":\"44.37598\",\"approve_hi\":\"48.93261\",\"approve_lo\":\"39.81936\",\"disapprove_estimate\":\"41.06081\",\"disapprove_hi\":\"45.61743\",\"disapprove_lo\":\"36.50418\"},{\"date\":\"2017-01-27\",\"future\":false,\"subgroup\":\"All polls\",\"approve_estimate\":\"44.13586\",\"approve_hi\":\"48.70494\",\"approve_lo\":\"39.56679\",\"disapprove_estimate\":\"41.67268\",\"disapprove_hi\":\"46.24175\",\"disapprove_lo\":\"37.1036\"},{\"date\":\"2017-01-28\",\"future\":false,\"subgroup\":\"All polls\",\"approve_estimate\":\"43.87527\",\"approve_hi\":\"48.46821\",\"approve_lo\":\"39.28233\",\"disapprove_estimate\":\"41.91362\",\"disapprove_hi\":\"46.50656\",\"disapprove_lo\":\"37.32067\n"
     ]
    }
   ],
   "source": [
    "sample_offset, sample_len = 69950, 1500\n",
    "print(raw_html[sample_offset:sample_offset+sample_len])"
   ]
  },
  {
   "cell_type": "markdown",
   "metadata": {
    "nbgrader": {
     "grade": false,
     "locked": true,
     "solution": false
    }
   },
   "source": [
    "Here is a sample of the end of the raw data:"
   ]
  },
  {
   "cell_type": "code",
   "execution_count": 3,
   "metadata": {
    "nbgrader": {
     "grade": false,
     "locked": true,
     "solution": false
    }
   },
   "outputs": [
    {
     "name": "stdout",
     "output_type": "stream",
     "text": [
      "s\",\"approve_estimate\":\"41.46994\",\"approve_hi\":\"53.69857\",\"approve_lo\":\"29.24131\",\"disapprove_estimate\":\"51.94407\",\"disapprove_hi\":\"63.94288\",\"disapprove_lo\":\"39.94526\"},{\"date\":\"2019-05-10\",\"future\":true,\"subgroup\":\"All polls\",\"approve_estimate\":\"41.47093\",\"approve_hi\":\"53.72246\",\"approve_lo\":\"29.2194\",\"disapprove_estimate\":\"51.94225\",\"disapprove_hi\":\"63.96438\",\"disapprove_lo\":\"39.92012\"},{\"date\":\"2019-05-11\",\"future\":true,\"subgroup\":\"All polls\",\"approve_estimate\":\"41.4719\",\"approve_hi\":\"53.74633\",\"approve_lo\":\"29.19748\",\"disapprove_estimate\":\"51.94044\",\"disapprove_hi\":\"63.98589\",\"disapprove_lo\":\"39.895\"},{\"date\":\"2019-05-12\",\"future\":true,\"subgroup\":\"All polls\",\"approve_estimate\":\"41.47285\",\"approve_hi\":\"53.77016\",\"approve_lo\":\"29.17555\",\"disapprove_estimate\":\"51.93866\",\"disapprove_hi\":\"64.0074\",\"disapprove_lo\":\"39.86993\"},{\"date\":\"2019-05-13\",\"future\":true,\"subgroup\":\"All polls\",\"approve_estimate\":\"41.47378\",\"approve_hi\":\"53.79396\",\"approve_lo\":\"29.15361\",\"disapprove_estimate\":\"51.9369\",\"disapprove_hi\":\"64.02892\",\"disapprove_lo\":\"39.84487\"},{\"date\":\"2019-05-14\",\"future\":true,\"subgroup\":\"All polls\",\"approve_estimate\":\"41.47469\",\"approve_hi\":\"53.81773\",\"approve_lo\":\"29.13165\",\"disapprove_estimate\":\"51.93515\",\"disapprove_hi\":\"64.05045\",\"disapprove_lo\":\"39.81984\"}];\n",
      "  </script>\n",
      "  <div class=\"container\">\n",
      "   <div id=\"footer\">\n",
      "    <div class=\"notes\">\n",
      "     <p>\n",
      "      When the dates of tracking polls from the same pollster overlap, only the most recent version is shown.\n",
      "     </p>\n",
      "   \n"
     ]
    }
   ],
   "source": [
    "sample_end = 257500\n",
    "print(raw_html[sample_end:sample_end+sample_len])"
   ]
  },
  {
   "cell_type": "markdown",
   "metadata": {
    "nbgrader": {
     "grade": false,
     "locked": true,
     "solution": false
    }
   },
   "source": [
    "**Observations about the file snippets shown above:**\n",
    "\n",
    "- Each \"data point\" or \"data record\" is encoded in JavaScript Object Notation (JSON), which is essentially the same as a Python dictionary. Enclosed in the curly brackets are key-value pairs. These include the date (`\"date\":\"yyyy-mm-dd\"`), approval and disapproval rating estimates (`\"approve_estimate\":\"45.46693\"` and `\"disapprove_estimate\":\"41.26452\"`), as well as upper and lower error bounds (`\"..._hi\"` and `\"..._lo\"`). The estimates correspond to the green (approval) and orange (disapproval) lines, and the error bounds form the shaded regions around those lines.\n",
    "- Each data record includes a key named `\"future\"`. That's because FiveThirtyEight has projected the ratings into the future, so some records correspond to observed values (`\"future\":false`) while others correspond to extrapolated values (`\"future\":true`).\n",
    "\n",
    "\n",
    "These obsrvations will help when it comes to recognizing and extracting patterns in the data.\n",
    "\n"
   ]
  },
  {
   "cell_type": "markdown",
   "metadata": {
    "nbgrader": {
     "grade": false,
     "locked": true,
     "solution": false
    }
   },
   "source": [
    "## Extracting the meaningful data elements"
   ]
  },
  {
   "cell_type": "markdown",
   "metadata": {
    "nbgrader": {
     "grade": false,
     "locked": true,
     "solution": false
    }
   },
   "source": [
    "**First Task: Extracting relevant data** The data I need begins with `'var approval=[...'` and ends with a closing square bracket, `']'`. This is the only such occurance of this pattern in the raw data. I'm going to use regular expressions to find the pattern I'm looking for."
   ]
  },
  {
   "cell_type": "code",
   "execution_count": 4,
   "metadata": {},
   "outputs": [
    {
     "name": "stdout",
     "output_type": "stream",
     "text": [
      "=== First and last 300 characters ===\n",
      "{\"date\":\"2017-01-23\",\"future\":false,\"subgroup\":\"All polls\",\"approve_estimate\":\"45.46693\",\"approve_hi\":\"50.88971\",\"approve_lo\":\"40.04416\",\"disapprove_estimate\":\"41.26452\",\"disapprove_hi\":\"46.68729\",\"disapprove_lo\":\"35.84175\"},{\"date\":\"2017-01-24\",\"future\":false,\"subgroup\":\"All polls\",\"approve_estimat\n",
      "   ...   \n",
      "e_estimate\":\"51.9369\",\"disapprove_hi\":\"64.02892\",\"disapprove_lo\":\"39.84487\"},{\"date\":\"2019-05-14\",\"future\":true,\"subgroup\":\"All polls\",\"approve_estimate\":\"41.47469\",\"approve_hi\":\"53.81773\",\"approve_lo\":\"29.13165\",\"disapprove_estimate\":\"51.93515\",\"disapprove_hi\":\"64.05045\",\"disapprove_lo\":\"39.81984\"}\n"
     ]
    }
   ],
   "source": [
    "import re\n",
    "\n",
    "def extract_approval_raw(html):\n",
    "    pattern = re.compile(r'\\[(.*)\\]')\n",
    "    matches = pattern.findall(html)\n",
    "    str_version = matches[0]\n",
    "    return str_version\n",
    "    \n",
    "    \n",
    "raw_data = extract_approval_raw(raw_html)\n",
    "\n",
    "print(\"=== First and last 300 characters ===\\n{}\\n   ...   \\n{}\".format(raw_data[:300], raw_data[-300:]))"
   ]
  },
  {
   "cell_type": "markdown",
   "metadata": {
    "nbgrader": {
     "grade": false,
     "locked": true,
     "solution": false
    }
   },
   "source": [
    "**Finding the Approval Ratings** Now I'll create a function, `extract_approval_estimates(data_substr)`,which will takes as input a string, `data_substr`, which would be a data substring like the one returned by `extract_approval_raw()`. It will return a **dictionary** where\n",
    "\n",
    "- each key is a date, stored as a string in the form `'2017-01-23'` (**without the quotes**);\n",
    "- each corresponding value is the approval rating, **stored as a `float`**.\n",
    "\n",
    "For example, executing\n",
    "\n",
    "```python\n",
    "    approvals = extract_approval_estimates(data_substr)\n",
    "    print(type(approvals['2017-01-23']), approvals['2017-01-23'])\n",
    "```\n",
    " `<class 'float'> 45.46693`\n",
    "\n",
    "I'm **only** going to keep records for which `\"future\":false`- and not worry about the projected values (Although, it would be  a cool exercise to compare projected vs actual).\n"
   ]
  },
  {
   "cell_type": "code",
   "execution_count": 5,
   "metadata": {},
   "outputs": [
    {
     "name": "stdout",
     "output_type": "stream",
     "text": [
      "Found 592 data records.\n"
     ]
    }
   ],
   "source": [
    "from collections import defaultdict\n",
    "\n",
    "def extract_approval_estimates(data_substr):\n",
    "    date = re.compile(r'\\\"(\\d{4}\\-\\d{2}\\-\\d{2})\\\",\\\"future\\\":false')\n",
    "    approval = re.compile(r'\\\"approve_estimate\\\":\\\"(\\d{2}\\.\\d+)')\n",
    "    \n",
    "    date_matches = date.findall(data_substr)\n",
    "    approval_matches = approval.findall(data_substr)\n",
    "    approval_matches = [float(match) for match in approval_matches]\n",
    "    \n",
    "    result = defaultdict(float)\n",
    "    for d,a in zip(date_matches,approval_matches):\n",
    "        result[d] = a\n",
    "    \n",
    "    return dict(result)\n",
    "    \n",
    "    \n",
    "approvals = extract_approval_estimates(raw_data)\n",
    "#approvals\n",
    "print(\"Found {} data records.\".format(len(approvals)))"
   ]
  },
  {
   "cell_type": "markdown",
   "metadata": {
    "nbgrader": {
     "grade": false,
     "locked": true,
     "solution": false
    }
   },
   "source": [
    "**Same as above- now for Disapproval Ratings:**\n",
    "\n",
    "For instance, executing\n",
    "\n",
    "```python\n",
    "disapprovals = extract_disapproval_estimates(raw_data)\n",
    "print(type(disapprovals['2017-01-23']), disapprovals['2017-01-23'])\n",
    "```\n",
    "\n",
    "should display, `<class 'float'> 41.26452`."
   ]
  },
  {
   "cell_type": "code",
   "execution_count": 6,
   "metadata": {},
   "outputs": [
    {
     "name": "stdout",
     "output_type": "stream",
     "text": [
      "Found 592 data records.\n"
     ]
    }
   ],
   "source": [
    "def extract_disapproval_estimates(data_substr):\n",
    "\n",
    "    date = re.compile(r'\\\"(\\d{4}\\-\\d{2}\\-\\d{2})\\\",\\\"future\\\":false')\n",
    "    approval = re.compile(r'\\\"disapprove_estimate\\\":\\\"(\\d{2}\\.\\d+)')\n",
    "    \n",
    "    date_matches = date.findall(data_substr)\n",
    "    approval_matches = approval.findall(data_substr)\n",
    "    approval_matches = [float(match) for match in approval_matches]\n",
    "    \n",
    "    result = defaultdict(float)\n",
    "    for d,a in zip(date_matches,approval_matches):\n",
    "        result[d] = a\n",
    "    \n",
    "    return dict(result)\n",
    "\n",
    "disapprovals = extract_disapproval_estimates(raw_data)\n",
    "print(\"Found {} data records.\".format(len(disapprovals)))"
   ]
  },
  {
   "cell_type": "markdown",
   "metadata": {},
   "source": [
    "## Creating Pandas DataFrames\n",
    "\n",
    "Now that I have the approvals and disapprovals, I can create a pandas dataframe, which then can be used for analysis. "
   ]
  },
  {
   "cell_type": "code",
   "execution_count": 7,
   "metadata": {},
   "outputs": [
    {
     "data": {
      "text/html": [
       "<div>\n",
       "<style scoped>\n",
       "    .dataframe tbody tr th:only-of-type {\n",
       "        vertical-align: middle;\n",
       "    }\n",
       "\n",
       "    .dataframe tbody tr th {\n",
       "        vertical-align: top;\n",
       "    }\n",
       "\n",
       "    .dataframe thead th {\n",
       "        text-align: right;\n",
       "    }\n",
       "</style>\n",
       "<table border=\"1\" class=\"dataframe\">\n",
       "  <thead>\n",
       "    <tr style=\"text-align: right;\">\n",
       "      <th></th>\n",
       "      <th>Date</th>\n",
       "      <th>Approval Rating</th>\n",
       "      <th>Disapproval Rating</th>\n",
       "    </tr>\n",
       "  </thead>\n",
       "  <tbody>\n",
       "    <tr>\n",
       "      <th>0</th>\n",
       "      <td>2017-01-23</td>\n",
       "      <td>45.46693</td>\n",
       "      <td>41.26452</td>\n",
       "    </tr>\n",
       "    <tr>\n",
       "      <th>1</th>\n",
       "      <td>2017-01-24</td>\n",
       "      <td>45.44264</td>\n",
       "      <td>41.87849</td>\n",
       "    </tr>\n",
       "    <tr>\n",
       "      <th>2</th>\n",
       "      <td>2017-01-25</td>\n",
       "      <td>47.76497</td>\n",
       "      <td>42.52911</td>\n",
       "    </tr>\n",
       "    <tr>\n",
       "      <th>3</th>\n",
       "      <td>2017-01-26</td>\n",
       "      <td>44.37598</td>\n",
       "      <td>41.06081</td>\n",
       "    </tr>\n",
       "    <tr>\n",
       "      <th>4</th>\n",
       "      <td>2017-01-27</td>\n",
       "      <td>44.13586</td>\n",
       "      <td>41.67268</td>\n",
       "    </tr>\n",
       "    <tr>\n",
       "      <th>5</th>\n",
       "      <td>2017-01-28</td>\n",
       "      <td>43.87527</td>\n",
       "      <td>41.91362</td>\n",
       "    </tr>\n",
       "    <tr>\n",
       "      <th>6</th>\n",
       "      <td>2017-01-29</td>\n",
       "      <td>44.14589</td>\n",
       "      <td>42.22470</td>\n",
       "    </tr>\n",
       "    <tr>\n",
       "      <th>7</th>\n",
       "      <td>2017-01-30</td>\n",
       "      <td>44.09903</td>\n",
       "      <td>42.45613</td>\n",
       "    </tr>\n",
       "    <tr>\n",
       "      <th>8</th>\n",
       "      <td>2017-01-31</td>\n",
       "      <td>44.34048</td>\n",
       "      <td>43.45351</td>\n",
       "    </tr>\n",
       "    <tr>\n",
       "      <th>9</th>\n",
       "      <td>2017-02-01</td>\n",
       "      <td>44.79341</td>\n",
       "      <td>44.69287</td>\n",
       "    </tr>\n",
       "  </tbody>\n",
       "</table>\n",
       "</div>"
      ],
      "text/plain": [
       "        Date  Approval Rating  Disapproval Rating\n",
       "0 2017-01-23         45.46693            41.26452\n",
       "1 2017-01-24         45.44264            41.87849\n",
       "2 2017-01-25         47.76497            42.52911\n",
       "3 2017-01-26         44.37598            41.06081\n",
       "4 2017-01-27         44.13586            41.67268\n",
       "5 2017-01-28         43.87527            41.91362\n",
       "6 2017-01-29         44.14589            42.22470\n",
       "7 2017-01-30         44.09903            42.45613\n",
       "8 2017-01-31         44.34048            43.45351\n",
       "9 2017-02-01         44.79341            44.69287"
      ]
     },
     "execution_count": 7,
     "metadata": {},
     "output_type": "execute_result"
    }
   ],
   "source": [
    "import pandas as pd\n",
    "\n",
    "#Creating separate dfs for approvals and disapprovals\n",
    "df = pd.DataFrame(list(approvals.items()),columns = ['Date','Approval Rating'])\n",
    "df2 = pd.DataFrame(list(disapprovals.items()),columns = ['Date','Disapproval Rating'])\n",
    "\n",
    "#Joining the dataframes and converting the 'Date' columns to dtype = datetime\n",
    "df3 = df.merge(df2, on = 'Date',how = 'left')\n",
    "df3['Date'] = pd.to_datetime(df3['Date'])\n",
    "\n",
    "#Inspect the top 10 rows of the dataframe\n",
    "df3.head(10)\n"
   ]
  },
  {
   "cell_type": "markdown",
   "metadata": {},
   "source": [
    "## Visualizing the Data\n",
    "\n",
    "Now that I have some useful data, I can start to vizualize it. I won't be able to create a VIZ identical to the top picture, but I can at least show the trend in the data. To do this, I'm going to use the python library bokeh."
   ]
  },
  {
   "cell_type": "code",
   "execution_count": 8,
   "metadata": {},
   "outputs": [
    {
     "data": {
      "text/html": [
       "\n",
       "    <div class=\"bk-root\">\n",
       "        <a href=\"https://bokeh.pydata.org\" target=\"_blank\" class=\"bk-logo bk-logo-small bk-logo-notebook\"></a>\n",
       "        <span id=\"63cc28eb-b5aa-40cd-b412-8d786320d680\">Loading BokehJS ...</span>\n",
       "    </div>"
      ]
     },
     "metadata": {},
     "output_type": "display_data"
    },
    {
     "data": {
      "application/javascript": [
       "\n",
       "(function(root) {\n",
       "  function now() {\n",
       "    return new Date();\n",
       "  }\n",
       "\n",
       "  var force = true;\n",
       "\n",
       "  if (typeof (root._bokeh_onload_callbacks) === \"undefined\" || force === true) {\n",
       "    root._bokeh_onload_callbacks = [];\n",
       "    root._bokeh_is_loading = undefined;\n",
       "  }\n",
       "\n",
       "  var JS_MIME_TYPE = 'application/javascript';\n",
       "  var HTML_MIME_TYPE = 'text/html';\n",
       "  var EXEC_MIME_TYPE = 'application/vnd.bokehjs_exec.v0+json';\n",
       "  var CLASS_NAME = 'output_bokeh rendered_html';\n",
       "\n",
       "  /**\n",
       "   * Render data to the DOM node\n",
       "   */\n",
       "  function render(props, node) {\n",
       "    var script = document.createElement(\"script\");\n",
       "    node.appendChild(script);\n",
       "  }\n",
       "\n",
       "  /**\n",
       "   * Handle when an output is cleared or removed\n",
       "   */\n",
       "  function handleClearOutput(event, handle) {\n",
       "    var cell = handle.cell;\n",
       "\n",
       "    var id = cell.output_area._bokeh_element_id;\n",
       "    var server_id = cell.output_area._bokeh_server_id;\n",
       "    // Clean up Bokeh references\n",
       "    if (id !== undefined) {\n",
       "      Bokeh.index[id].model.document.clear();\n",
       "      delete Bokeh.index[id];\n",
       "    }\n",
       "\n",
       "    if (server_id !== undefined) {\n",
       "      // Clean up Bokeh references\n",
       "      var cmd = \"from bokeh.io.state import curstate; print(curstate().uuid_to_server['\" + server_id + \"'].get_sessions()[0].document.roots[0]._id)\";\n",
       "      cell.notebook.kernel.execute(cmd, {\n",
       "        iopub: {\n",
       "          output: function(msg) {\n",
       "            var element_id = msg.content.text.trim();\n",
       "            Bokeh.index[element_id].model.document.clear();\n",
       "            delete Bokeh.index[element_id];\n",
       "          }\n",
       "        }\n",
       "      });\n",
       "      // Destroy server and session\n",
       "      var cmd = \"import bokeh.io.notebook as ion; ion.destroy_server('\" + server_id + \"')\";\n",
       "      cell.notebook.kernel.execute(cmd);\n",
       "    }\n",
       "  }\n",
       "\n",
       "  /**\n",
       "   * Handle when a new output is added\n",
       "   */\n",
       "  function handleAddOutput(event, handle) {\n",
       "    var output_area = handle.output_area;\n",
       "    var output = handle.output;\n",
       "\n",
       "    // limit handleAddOutput to display_data with EXEC_MIME_TYPE content only\n",
       "    if ((output.output_type != \"display_data\") || (!output.data.hasOwnProperty(EXEC_MIME_TYPE))) {\n",
       "      return\n",
       "    }\n",
       "\n",
       "    var toinsert = output_area.element.find(\".\" + CLASS_NAME.split(' ')[0]);\n",
       "\n",
       "    if (output.metadata[EXEC_MIME_TYPE][\"id\"] !== undefined) {\n",
       "      toinsert[toinsert.length - 1].firstChild.textContent = output.data[JS_MIME_TYPE];\n",
       "      // store reference to embed id on output_area\n",
       "      output_area._bokeh_element_id = output.metadata[EXEC_MIME_TYPE][\"id\"];\n",
       "    }\n",
       "    if (output.metadata[EXEC_MIME_TYPE][\"server_id\"] !== undefined) {\n",
       "      var bk_div = document.createElement(\"div\");\n",
       "      bk_div.innerHTML = output.data[HTML_MIME_TYPE];\n",
       "      var script_attrs = bk_div.children[0].attributes;\n",
       "      for (var i = 0; i < script_attrs.length; i++) {\n",
       "        toinsert[toinsert.length - 1].firstChild.setAttribute(script_attrs[i].name, script_attrs[i].value);\n",
       "      }\n",
       "      // store reference to server id on output_area\n",
       "      output_area._bokeh_server_id = output.metadata[EXEC_MIME_TYPE][\"server_id\"];\n",
       "    }\n",
       "  }\n",
       "\n",
       "  function register_renderer(events, OutputArea) {\n",
       "\n",
       "    function append_mime(data, metadata, element) {\n",
       "      // create a DOM node to render to\n",
       "      var toinsert = this.create_output_subarea(\n",
       "        metadata,\n",
       "        CLASS_NAME,\n",
       "        EXEC_MIME_TYPE\n",
       "      );\n",
       "      this.keyboard_manager.register_events(toinsert);\n",
       "      // Render to node\n",
       "      var props = {data: data, metadata: metadata[EXEC_MIME_TYPE]};\n",
       "      render(props, toinsert[toinsert.length - 1]);\n",
       "      element.append(toinsert);\n",
       "      return toinsert\n",
       "    }\n",
       "\n",
       "    /* Handle when an output is cleared or removed */\n",
       "    events.on('clear_output.CodeCell', handleClearOutput);\n",
       "    events.on('delete.Cell', handleClearOutput);\n",
       "\n",
       "    /* Handle when a new output is added */\n",
       "    events.on('output_added.OutputArea', handleAddOutput);\n",
       "\n",
       "    /**\n",
       "     * Register the mime type and append_mime function with output_area\n",
       "     */\n",
       "    OutputArea.prototype.register_mime_type(EXEC_MIME_TYPE, append_mime, {\n",
       "      /* Is output safe? */\n",
       "      safe: true,\n",
       "      /* Index of renderer in `output_area.display_order` */\n",
       "      index: 0\n",
       "    });\n",
       "  }\n",
       "\n",
       "  // register the mime type if in Jupyter Notebook environment and previously unregistered\n",
       "  if (root.Jupyter !== undefined) {\n",
       "    var events = require('base/js/events');\n",
       "    var OutputArea = require('notebook/js/outputarea').OutputArea;\n",
       "\n",
       "    if (OutputArea.prototype.mime_types().indexOf(EXEC_MIME_TYPE) == -1) {\n",
       "      register_renderer(events, OutputArea);\n",
       "    }\n",
       "  }\n",
       "\n",
       "  \n",
       "  if (typeof (root._bokeh_timeout) === \"undefined\" || force === true) {\n",
       "    root._bokeh_timeout = Date.now() + 5000;\n",
       "    root._bokeh_failed_load = false;\n",
       "  }\n",
       "\n",
       "  var NB_LOAD_WARNING = {'data': {'text/html':\n",
       "     \"<div style='background-color: #fdd'>\\n\"+\n",
       "     \"<p>\\n\"+\n",
       "     \"BokehJS does not appear to have successfully loaded. If loading BokehJS from CDN, this \\n\"+\n",
       "     \"may be due to a slow or bad network connection. Possible fixes:\\n\"+\n",
       "     \"</p>\\n\"+\n",
       "     \"<ul>\\n\"+\n",
       "     \"<li>re-rerun `output_notebook()` to attempt to load from CDN again, or</li>\\n\"+\n",
       "     \"<li>use INLINE resources instead, as so:</li>\\n\"+\n",
       "     \"</ul>\\n\"+\n",
       "     \"<code>\\n\"+\n",
       "     \"from bokeh.resources import INLINE\\n\"+\n",
       "     \"output_notebook(resources=INLINE)\\n\"+\n",
       "     \"</code>\\n\"+\n",
       "     \"</div>\"}};\n",
       "\n",
       "  function display_loaded() {\n",
       "    var el = document.getElementById(\"63cc28eb-b5aa-40cd-b412-8d786320d680\");\n",
       "    if (el != null) {\n",
       "      el.textContent = \"BokehJS is loading...\";\n",
       "    }\n",
       "    if (root.Bokeh !== undefined) {\n",
       "      if (el != null) {\n",
       "        el.textContent = \"BokehJS \" + root.Bokeh.version + \" successfully loaded.\";\n",
       "      }\n",
       "    } else if (Date.now() < root._bokeh_timeout) {\n",
       "      setTimeout(display_loaded, 100)\n",
       "    }\n",
       "  }\n",
       "\n",
       "\n",
       "  function run_callbacks() {\n",
       "    try {\n",
       "      root._bokeh_onload_callbacks.forEach(function(callback) { callback() });\n",
       "    }\n",
       "    finally {\n",
       "      delete root._bokeh_onload_callbacks\n",
       "    }\n",
       "    console.info(\"Bokeh: all callbacks have finished\");\n",
       "  }\n",
       "\n",
       "  function load_libs(js_urls, callback) {\n",
       "    root._bokeh_onload_callbacks.push(callback);\n",
       "    if (root._bokeh_is_loading > 0) {\n",
       "      console.log(\"Bokeh: BokehJS is being loaded, scheduling callback at\", now());\n",
       "      return null;\n",
       "    }\n",
       "    if (js_urls == null || js_urls.length === 0) {\n",
       "      run_callbacks();\n",
       "      return null;\n",
       "    }\n",
       "    console.log(\"Bokeh: BokehJS not loaded, scheduling load and callback at\", now());\n",
       "    root._bokeh_is_loading = js_urls.length;\n",
       "    for (var i = 0; i < js_urls.length; i++) {\n",
       "      var url = js_urls[i];\n",
       "      var s = document.createElement('script');\n",
       "      s.src = url;\n",
       "      s.async = false;\n",
       "      s.onreadystatechange = s.onload = function() {\n",
       "        root._bokeh_is_loading--;\n",
       "        if (root._bokeh_is_loading === 0) {\n",
       "          console.log(\"Bokeh: all BokehJS libraries loaded\");\n",
       "          run_callbacks()\n",
       "        }\n",
       "      };\n",
       "      s.onerror = function() {\n",
       "        console.warn(\"failed to load library \" + url);\n",
       "      };\n",
       "      console.log(\"Bokeh: injecting script tag for BokehJS library: \", url);\n",
       "      document.getElementsByTagName(\"head\")[0].appendChild(s);\n",
       "    }\n",
       "  };var element = document.getElementById(\"63cc28eb-b5aa-40cd-b412-8d786320d680\");\n",
       "  if (element == null) {\n",
       "    console.log(\"Bokeh: ERROR: autoload.js configured with elementid '63cc28eb-b5aa-40cd-b412-8d786320d680' but no matching script tag was found. \")\n",
       "    return false;\n",
       "  }\n",
       "\n",
       "  var js_urls = [\"https://cdn.pydata.org/bokeh/release/bokeh-0.12.16.min.js\", \"https://cdn.pydata.org/bokeh/release/bokeh-widgets-0.12.16.min.js\", \"https://cdn.pydata.org/bokeh/release/bokeh-tables-0.12.16.min.js\", \"https://cdn.pydata.org/bokeh/release/bokeh-gl-0.12.16.min.js\"];\n",
       "\n",
       "  var inline_js = [\n",
       "    function(Bokeh) {\n",
       "      Bokeh.set_log_level(\"info\");\n",
       "    },\n",
       "    \n",
       "    function(Bokeh) {\n",
       "      \n",
       "    },\n",
       "    function(Bokeh) {\n",
       "      console.log(\"Bokeh: injecting CSS: https://cdn.pydata.org/bokeh/release/bokeh-0.12.16.min.css\");\n",
       "      Bokeh.embed.inject_css(\"https://cdn.pydata.org/bokeh/release/bokeh-0.12.16.min.css\");\n",
       "      console.log(\"Bokeh: injecting CSS: https://cdn.pydata.org/bokeh/release/bokeh-widgets-0.12.16.min.css\");\n",
       "      Bokeh.embed.inject_css(\"https://cdn.pydata.org/bokeh/release/bokeh-widgets-0.12.16.min.css\");\n",
       "      console.log(\"Bokeh: injecting CSS: https://cdn.pydata.org/bokeh/release/bokeh-tables-0.12.16.min.css\");\n",
       "      Bokeh.embed.inject_css(\"https://cdn.pydata.org/bokeh/release/bokeh-tables-0.12.16.min.css\");\n",
       "    }\n",
       "  ];\n",
       "\n",
       "  function run_inline_js() {\n",
       "    \n",
       "    if ((root.Bokeh !== undefined) || (force === true)) {\n",
       "      for (var i = 0; i < inline_js.length; i++) {\n",
       "        inline_js[i].call(root, root.Bokeh);\n",
       "      }if (force === true) {\n",
       "        display_loaded();\n",
       "      }} else if (Date.now() < root._bokeh_timeout) {\n",
       "      setTimeout(run_inline_js, 100);\n",
       "    } else if (!root._bokeh_failed_load) {\n",
       "      console.log(\"Bokeh: BokehJS failed to load within specified timeout.\");\n",
       "      root._bokeh_failed_load = true;\n",
       "    } else if (force !== true) {\n",
       "      var cell = $(document.getElementById(\"63cc28eb-b5aa-40cd-b412-8d786320d680\")).parents('.cell').data().cell;\n",
       "      cell.output_area.append_execute_result(NB_LOAD_WARNING)\n",
       "    }\n",
       "\n",
       "  }\n",
       "\n",
       "  if (root._bokeh_is_loading === 0) {\n",
       "    console.log(\"Bokeh: BokehJS loaded, going straight to plotting\");\n",
       "    run_inline_js();\n",
       "  } else {\n",
       "    load_libs(js_urls, function() {\n",
       "      console.log(\"Bokeh: BokehJS plotting callback run at\", now());\n",
       "      run_inline_js();\n",
       "    });\n",
       "  }\n",
       "}(window));"
      ],
      "application/vnd.bokehjs_load.v0+json": "\n(function(root) {\n  function now() {\n    return new Date();\n  }\n\n  var force = true;\n\n  if (typeof (root._bokeh_onload_callbacks) === \"undefined\" || force === true) {\n    root._bokeh_onload_callbacks = [];\n    root._bokeh_is_loading = undefined;\n  }\n\n  \n\n  \n  if (typeof (root._bokeh_timeout) === \"undefined\" || force === true) {\n    root._bokeh_timeout = Date.now() + 5000;\n    root._bokeh_failed_load = false;\n  }\n\n  var NB_LOAD_WARNING = {'data': {'text/html':\n     \"<div style='background-color: #fdd'>\\n\"+\n     \"<p>\\n\"+\n     \"BokehJS does not appear to have successfully loaded. If loading BokehJS from CDN, this \\n\"+\n     \"may be due to a slow or bad network connection. Possible fixes:\\n\"+\n     \"</p>\\n\"+\n     \"<ul>\\n\"+\n     \"<li>re-rerun `output_notebook()` to attempt to load from CDN again, or</li>\\n\"+\n     \"<li>use INLINE resources instead, as so:</li>\\n\"+\n     \"</ul>\\n\"+\n     \"<code>\\n\"+\n     \"from bokeh.resources import INLINE\\n\"+\n     \"output_notebook(resources=INLINE)\\n\"+\n     \"</code>\\n\"+\n     \"</div>\"}};\n\n  function display_loaded() {\n    var el = document.getElementById(\"63cc28eb-b5aa-40cd-b412-8d786320d680\");\n    if (el != null) {\n      el.textContent = \"BokehJS is loading...\";\n    }\n    if (root.Bokeh !== undefined) {\n      if (el != null) {\n        el.textContent = \"BokehJS \" + root.Bokeh.version + \" successfully loaded.\";\n      }\n    } else if (Date.now() < root._bokeh_timeout) {\n      setTimeout(display_loaded, 100)\n    }\n  }\n\n\n  function run_callbacks() {\n    try {\n      root._bokeh_onload_callbacks.forEach(function(callback) { callback() });\n    }\n    finally {\n      delete root._bokeh_onload_callbacks\n    }\n    console.info(\"Bokeh: all callbacks have finished\");\n  }\n\n  function load_libs(js_urls, callback) {\n    root._bokeh_onload_callbacks.push(callback);\n    if (root._bokeh_is_loading > 0) {\n      console.log(\"Bokeh: BokehJS is being loaded, scheduling callback at\", now());\n      return null;\n    }\n    if (js_urls == null || js_urls.length === 0) {\n      run_callbacks();\n      return null;\n    }\n    console.log(\"Bokeh: BokehJS not loaded, scheduling load and callback at\", now());\n    root._bokeh_is_loading = js_urls.length;\n    for (var i = 0; i < js_urls.length; i++) {\n      var url = js_urls[i];\n      var s = document.createElement('script');\n      s.src = url;\n      s.async = false;\n      s.onreadystatechange = s.onload = function() {\n        root._bokeh_is_loading--;\n        if (root._bokeh_is_loading === 0) {\n          console.log(\"Bokeh: all BokehJS libraries loaded\");\n          run_callbacks()\n        }\n      };\n      s.onerror = function() {\n        console.warn(\"failed to load library \" + url);\n      };\n      console.log(\"Bokeh: injecting script tag for BokehJS library: \", url);\n      document.getElementsByTagName(\"head\")[0].appendChild(s);\n    }\n  };var element = document.getElementById(\"63cc28eb-b5aa-40cd-b412-8d786320d680\");\n  if (element == null) {\n    console.log(\"Bokeh: ERROR: autoload.js configured with elementid '63cc28eb-b5aa-40cd-b412-8d786320d680' but no matching script tag was found. \")\n    return false;\n  }\n\n  var js_urls = [\"https://cdn.pydata.org/bokeh/release/bokeh-0.12.16.min.js\", \"https://cdn.pydata.org/bokeh/release/bokeh-widgets-0.12.16.min.js\", \"https://cdn.pydata.org/bokeh/release/bokeh-tables-0.12.16.min.js\", \"https://cdn.pydata.org/bokeh/release/bokeh-gl-0.12.16.min.js\"];\n\n  var inline_js = [\n    function(Bokeh) {\n      Bokeh.set_log_level(\"info\");\n    },\n    \n    function(Bokeh) {\n      \n    },\n    function(Bokeh) {\n      console.log(\"Bokeh: injecting CSS: https://cdn.pydata.org/bokeh/release/bokeh-0.12.16.min.css\");\n      Bokeh.embed.inject_css(\"https://cdn.pydata.org/bokeh/release/bokeh-0.12.16.min.css\");\n      console.log(\"Bokeh: injecting CSS: https://cdn.pydata.org/bokeh/release/bokeh-widgets-0.12.16.min.css\");\n      Bokeh.embed.inject_css(\"https://cdn.pydata.org/bokeh/release/bokeh-widgets-0.12.16.min.css\");\n      console.log(\"Bokeh: injecting CSS: https://cdn.pydata.org/bokeh/release/bokeh-tables-0.12.16.min.css\");\n      Bokeh.embed.inject_css(\"https://cdn.pydata.org/bokeh/release/bokeh-tables-0.12.16.min.css\");\n    }\n  ];\n\n  function run_inline_js() {\n    \n    if ((root.Bokeh !== undefined) || (force === true)) {\n      for (var i = 0; i < inline_js.length; i++) {\n        inline_js[i].call(root, root.Bokeh);\n      }if (force === true) {\n        display_loaded();\n      }} else if (Date.now() < root._bokeh_timeout) {\n      setTimeout(run_inline_js, 100);\n    } else if (!root._bokeh_failed_load) {\n      console.log(\"Bokeh: BokehJS failed to load within specified timeout.\");\n      root._bokeh_failed_load = true;\n    } else if (force !== true) {\n      var cell = $(document.getElementById(\"63cc28eb-b5aa-40cd-b412-8d786320d680\")).parents('.cell').data().cell;\n      cell.output_area.append_execute_result(NB_LOAD_WARNING)\n    }\n\n  }\n\n  if (root._bokeh_is_loading === 0) {\n    console.log(\"Bokeh: BokehJS loaded, going straight to plotting\");\n    run_inline_js();\n  } else {\n    load_libs(js_urls, function() {\n      console.log(\"Bokeh: BokehJS plotting callback run at\", now());\n      run_inline_js();\n    });\n  }\n}(window));"
     },
     "metadata": {},
     "output_type": "display_data"
    }
   ],
   "source": [
    "from IPython.display import display, Markdown\n",
    "import bokeh\n",
    "from bokeh.plotting import figure, output_file, show\n",
    "from bokeh.io import output_notebook\n",
    "from bokeh.io import show\n",
    "from bokeh.models import HoverTool\n",
    "output_notebook ()"
   ]
  },
  {
   "cell_type": "code",
   "execution_count": 9,
   "metadata": {},
   "outputs": [
    {
     "data": {
      "text/html": [
       "\n",
       "<div class=\"bk-root\">\n",
       "    <div class=\"bk-plotdiv\" id=\"0098871e-fa36-4b2c-ab1f-5436d8936034\"></div>\n",
       "</div>"
      ]
     },
     "metadata": {},
     "output_type": "display_data"
    },
    {
     "data": {
      "application/javascript": [
       "(function(root) {\n",
       "  function embed_document(root) {\n",
       "    \n",
       "  var docs_json = {\"26651343-30b7-4f9d-a36f-34a4f505a632\":{\"roots\":{\"references\":[{\"attributes\":{\"days\":[1,15]},\"id\":\"19851e29-a16a-42dd-8402-6202c3fc757c\",\"type\":\"DaysTicker\"},{\"attributes\":{\"plot\":null,\"text\":\"Trump Approval Rating\"},\"id\":\"b0d287e9-7149-43ba-8bf5-f034a771b4ff\",\"type\":\"Title\"},{\"attributes\":{\"months\":[0,4,8]},\"id\":\"c34b71cb-5b0a-47b5-8bb5-69ee0eff931a\",\"type\":\"MonthsTicker\"},{\"attributes\":{\"callback\":null},\"id\":\"a5411b17-7a7c-4c0c-b24a-3651f5cb4872\",\"type\":\"DataRange1d\"},{\"attributes\":{\"months\":[0,6]},\"id\":\"62ea3094-2643-4b17-a05b-55dd73564afa\",\"type\":\"MonthsTicker\"},{\"attributes\":{\"active_drag\":\"auto\",\"active_inspect\":\"auto\",\"active_scroll\":\"auto\",\"active_tap\":\"auto\",\"tools\":[{\"id\":\"81a9efe3-d406-4c88-8f3c-482d0c4151df\",\"type\":\"PanTool\"},{\"id\":\"72f2d028-1ac2-45b1-8b1c-81dcc23bc0da\",\"type\":\"WheelZoomTool\"},{\"id\":\"9a5b6fb0-8e3d-4943-81b1-a9595a1a1c8e\",\"type\":\"BoxZoomTool\"},{\"id\":\"8c7f5994-5968-4969-b896-0cd4ac9881b5\",\"type\":\"SaveTool\"},{\"id\":\"2e3c5197-b721-4aa3-88ac-c2bc0e7c5fb2\",\"type\":\"ResetTool\"},{\"id\":\"43a922dc-a926-4aa5-b30d-05433012f48f\",\"type\":\"HelpTool\"}]},\"id\":\"6bdd9db0-f9c2-4b19-9452-bde7326afe25\",\"type\":\"Toolbar\"},{\"attributes\":{},\"id\":\"7c3fc4e9-a4f7-4a61-969d-da85a43aa1ca\",\"type\":\"YearsTicker\"},{\"attributes\":{\"callback\":null,\"data\":{\"x\":{\"__ndarray__\":\"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\",\"dtype\":\"float64\",\"shape\":[592]},\"y\":{\"__ndarray__\":\"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\",\"dtype\":\"float64\",\"shape\":[592]}},\"selected\":{\"id\":\"4bd16b89-d505-4ae5-b62a-ff120ccddd58\",\"type\":\"Selection\"},\"selection_policy\":{\"id\":\"bf3316be-9b47-4b49-b8f8-c6013e800443\",\"type\":\"UnionRenderers\"}},\"id\":\"7b5edbe9-6189-4f24-830a-eec3fbb43ebf\",\"type\":\"ColumnDataSource\"},{\"attributes\":{\"items\":[{\"id\":\"ca8b5396-9fa8-4a11-9e37-780754c4bf90\",\"type\":\"LegendItem\"},{\"id\":\"4f4702a6-8b11-4130-8e5a-3add81572a68\",\"type\":\"LegendItem\"}],\"location\":\"bottom_left\",\"plot\":{\"id\":\"590ffd9a-bf56-4fd4-b7f9-cd672ebc5035\",\"subtype\":\"Figure\",\"type\":\"Plot\"}},\"id\":\"59c90b93-ab56-4131-8105-dd327f9b8740\",\"type\":\"Legend\"},{\"attributes\":{\"line_color\":\"Green\",\"line_width\":3,\"x\":{\"field\":\"x\"},\"y\":{\"field\":\"y\"}},\"id\":\"f15b9719-eb00-429c-ba1e-0e4f6ba15e67\",\"type\":\"Line\"},{\"attributes\":{},\"id\":\"d29f3525-295d-4cc3-b303-584a81e4c706\",\"type\":\"LinearScale\"},{\"attributes\":{\"callback\":null,\"end\":70,\"start\":20},\"id\":\"b226929e-dbbb-4a0a-a060-71d6e61cd52f\",\"type\":\"Range1d\"},{\"attributes\":{},\"id\":\"63525efb-2556-458f-8c5d-93f7d23632ba\",\"type\":\"LinearScale\"},{\"attributes\":{\"line_color\":\"lightcoral\",\"line_width\":3,\"x\":{\"field\":\"x\"},\"y\":{\"field\":\"y\"}},\"id\":\"158413aa-4329-42c2-8812-1df3926de042\",\"type\":\"Line\"},{\"attributes\":{\"line_alpha\":0.1,\"line_color\":\"#1f77b4\",\"line_width\":3,\"x\":{\"field\":\"x\"},\"y\":{\"field\":\"y\"}},\"id\":\"d16e2a3a-8f2d-4784-9214-35afe017759d\",\"type\":\"Line\"},{\"attributes\":{\"axis_label\":\"Date\",\"formatter\":{\"id\":\"16ad2bbe-31fc-4449-9110-98235dcfdeea\",\"type\":\"DatetimeTickFormatter\"},\"plot\":{\"id\":\"590ffd9a-bf56-4fd4-b7f9-cd672ebc5035\",\"subtype\":\"Figure\",\"type\":\"Plot\"},\"ticker\":{\"id\":\"a8951cc3-6281-447e-b86f-f5f1972cf3ac\",\"type\":\"DatetimeTicker\"}},\"id\":\"3a2042ca-4649-44bb-bfc2-bc6575ea9f8f\",\"type\":\"DatetimeAxis\"},{\"attributes\":{\"source\":{\"id\":\"7b5edbe9-6189-4f24-830a-eec3fbb43ebf\",\"type\":\"ColumnDataSource\"}},\"id\":\"c3dd6273-c5f2-4cc5-b986-3ad8a8a32966\",\"type\":\"CDSView\"},{\"attributes\":{\"num_minor_ticks\":5,\"tickers\":[{\"id\":\"1085713a-785c-4c53-bd05-cccdaa9b6e1f\",\"type\":\"AdaptiveTicker\"},{\"id\":\"38f982c2-5640-42f3-b6ef-c58aa1775877\",\"type\":\"AdaptiveTicker\"},{\"id\":\"9a6bd3ce-5005-4347-8f6e-a22dff736dc5\",\"type\":\"AdaptiveTicker\"},{\"id\":\"d4858be9-669c-42d0-866c-703c5ff5670e\",\"type\":\"DaysTicker\"},{\"id\":\"dcbe2d8c-2765-46cd-b7c0-9e416605c8c9\",\"type\":\"DaysTicker\"},{\"id\":\"32ce9d6f-7c26-4e2c-88a3-3298a272e0a8\",\"type\":\"DaysTicker\"},{\"id\":\"19851e29-a16a-42dd-8402-6202c3fc757c\",\"type\":\"DaysTicker\"},{\"id\":\"2f03d2c1-a4d7-4d82-95aa-9a2b2e76c301\",\"type\":\"MonthsTicker\"},{\"id\":\"129e636d-fa80-4d61-acdc-ddd78bb0fa99\",\"type\":\"MonthsTicker\"},{\"id\":\"c34b71cb-5b0a-47b5-8bb5-69ee0eff931a\",\"type\":\"MonthsTicker\"},{\"id\":\"62ea3094-2643-4b17-a05b-55dd73564afa\",\"type\":\"MonthsTicker\"},{\"id\":\"7c3fc4e9-a4f7-4a61-969d-da85a43aa1ca\",\"type\":\"YearsTicker\"}]},\"id\":\"a8951cc3-6281-447e-b86f-f5f1972cf3ac\",\"type\":\"DatetimeTicker\"},{\"attributes\":{\"grid_line_alpha\":{\"value\":0.3},\"plot\":{\"id\":\"590ffd9a-bf56-4fd4-b7f9-cd672ebc5035\",\"subtype\":\"Figure\",\"type\":\"Plot\"},\"ticker\":{\"id\":\"a8951cc3-6281-447e-b86f-f5f1972cf3ac\",\"type\":\"DatetimeTicker\"}},\"id\":\"5825bf62-37e5-4866-8dfa-91ca3d6c6396\",\"type\":\"Grid\"},{\"attributes\":{\"data_source\":{\"id\":\"7b5edbe9-6189-4f24-830a-eec3fbb43ebf\",\"type\":\"ColumnDataSource\"},\"glyph\":{\"id\":\"158413aa-4329-42c2-8812-1df3926de042\",\"type\":\"Line\"},\"hover_glyph\":null,\"muted_glyph\":null,\"nonselection_glyph\":{\"id\":\"d16e2a3a-8f2d-4784-9214-35afe017759d\",\"type\":\"Line\"},\"selection_glyph\":null,\"view\":{\"id\":\"c3dd6273-c5f2-4cc5-b986-3ad8a8a32966\",\"type\":\"CDSView\"}},\"id\":\"96169f3c-beea-495d-a9ff-e07cbc20a8de\",\"type\":\"GlyphRenderer\"},{\"attributes\":{\"axis_label\":\"Rating\",\"formatter\":{\"id\":\"c49a32e0-422f-45a1-bd19-033613a9e078\",\"type\":\"BasicTickFormatter\"},\"plot\":{\"id\":\"590ffd9a-bf56-4fd4-b7f9-cd672ebc5035\",\"subtype\":\"Figure\",\"type\":\"Plot\"},\"ticker\":{\"id\":\"5dce129a-9b52-43ab-bbe5-71b4e9a369de\",\"type\":\"BasicTicker\"}},\"id\":\"d5038283-479f-45ad-a9b1-387888dc5dfb\",\"type\":\"LinearAxis\"},{\"attributes\":{\"source\":{\"id\":\"8ff8664f-77d7-400c-a15f-2bc55b785949\",\"type\":\"ColumnDataSource\"}},\"id\":\"ce86b262-23b5-42df-b39d-da1f0ae3966c\",\"type\":\"CDSView\"},{\"attributes\":{},\"id\":\"444d7fe8-f0bb-4774-abd9-44f7e4eca7ff\",\"type\":\"UnionRenderers\"},{\"attributes\":{},\"id\":\"5dce129a-9b52-43ab-bbe5-71b4e9a369de\",\"type\":\"BasicTicker\"},{\"attributes\":{},\"id\":\"4b65f24e-6922-484b-8b0b-6cbea1b384d3\",\"type\":\"Selection\"},{\"attributes\":{\"dimension\":1,\"grid_line_alpha\":{\"value\":0.3},\"plot\":{\"id\":\"590ffd9a-bf56-4fd4-b7f9-cd672ebc5035\",\"subtype\":\"Figure\",\"type\":\"Plot\"},\"ticker\":{\"id\":\"5dce129a-9b52-43ab-bbe5-71b4e9a369de\",\"type\":\"BasicTicker\"}},\"id\":\"e3dcfc2d-59c3-40a1-8725-f4c9f68b79d8\",\"type\":\"Grid\"},{\"attributes\":{},\"id\":\"bf3316be-9b47-4b49-b8f8-c6013e800443\",\"type\":\"UnionRenderers\"},{\"attributes\":{\"callback\":null,\"data\":{\"x\":{\"__ndarray__\":\"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\",\"dtype\":\"float64\",\"shape\":[592]},\"y\":{\"__ndarray__\":\"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\",\"dtype\":\"float64\",\"shape\":[592]}},\"selected\":{\"id\":\"4b65f24e-6922-484b-8b0b-6cbea1b384d3\",\"type\":\"Selection\"},\"selection_policy\":{\"id\":\"444d7fe8-f0bb-4774-abd9-44f7e4eca7ff\",\"type\":\"UnionRenderers\"}},\"id\":\"8ff8664f-77d7-400c-a15f-2bc55b785949\",\"type\":\"ColumnDataSource\"},{\"attributes\":{\"data_source\":{\"id\":\"8ff8664f-77d7-400c-a15f-2bc55b785949\",\"type\":\"ColumnDataSource\"},\"glyph\":{\"id\":\"f15b9719-eb00-429c-ba1e-0e4f6ba15e67\",\"type\":\"Line\"},\"hover_glyph\":null,\"muted_glyph\":null,\"nonselection_glyph\":{\"id\":\"8a4de818-e481-4631-81de-3c3499a6bb6b\",\"type\":\"Line\"},\"selection_glyph\":null,\"view\":{\"id\":\"ce86b262-23b5-42df-b39d-da1f0ae3966c\",\"type\":\"CDSView\"}},\"id\":\"730873e9-04ce-4c70-939c-006c329d06e5\",\"type\":\"GlyphRenderer\"},{\"attributes\":{},\"id\":\"4bd16b89-d505-4ae5-b62a-ff120ccddd58\",\"type\":\"Selection\"},{\"attributes\":{\"bottom_units\":\"screen\",\"fill_alpha\":{\"value\":0.5},\"fill_color\":{\"value\":\"lightgrey\"},\"left_units\":\"screen\",\"level\":\"overlay\",\"line_alpha\":{\"value\":1.0},\"line_color\":{\"value\":\"black\"},\"line_dash\":[4,4],\"line_width\":{\"value\":2},\"plot\":null,\"render_mode\":\"css\",\"right_units\":\"screen\",\"top_units\":\"screen\"},\"id\":\"c5269a03-c098-432e-a546-dd0de6317731\",\"type\":\"BoxAnnotation\"},{\"attributes\":{\"label\":{\"value\":\"Diapproval Rating\"},\"renderers\":[{\"id\":\"96169f3c-beea-495d-a9ff-e07cbc20a8de\",\"type\":\"GlyphRenderer\"}]},\"id\":\"4f4702a6-8b11-4130-8e5a-3add81572a68\",\"type\":\"LegendItem\"},{\"attributes\":{\"line_alpha\":0.1,\"line_color\":\"#1f77b4\",\"line_width\":3,\"x\":{\"field\":\"x\"},\"y\":{\"field\":\"y\"}},\"id\":\"8a4de818-e481-4631-81de-3c3499a6bb6b\",\"type\":\"Line\"},{\"attributes\":{},\"id\":\"81a9efe3-d406-4c88-8f3c-482d0c4151df\",\"type\":\"PanTool\"},{\"attributes\":{},\"id\":\"c49a32e0-422f-45a1-bd19-033613a9e078\",\"type\":\"BasicTickFormatter\"},{\"attributes\":{},\"id\":\"72f2d028-1ac2-45b1-8b1c-81dcc23bc0da\",\"type\":\"WheelZoomTool\"},{\"attributes\":{\"overlay\":{\"id\":\"c5269a03-c098-432e-a546-dd0de6317731\",\"type\":\"BoxAnnotation\"}},\"id\":\"9a5b6fb0-8e3d-4943-81b1-a9595a1a1c8e\",\"type\":\"BoxZoomTool\"},{\"attributes\":{},\"id\":\"16ad2bbe-31fc-4449-9110-98235dcfdeea\",\"type\":\"DatetimeTickFormatter\"},{\"attributes\":{},\"id\":\"8c7f5994-5968-4969-b896-0cd4ac9881b5\",\"type\":\"SaveTool\"},{\"attributes\":{},\"id\":\"2e3c5197-b721-4aa3-88ac-c2bc0e7c5fb2\",\"type\":\"ResetTool\"},{\"attributes\":{},\"id\":\"43a922dc-a926-4aa5-b30d-05433012f48f\",\"type\":\"HelpTool\"},{\"attributes\":{\"days\":[1,2,3,4,5,6,7,8,9,10,11,12,13,14,15,16,17,18,19,20,21,22,23,24,25,26,27,28,29,30,31]},\"id\":\"d4858be9-669c-42d0-866c-703c5ff5670e\",\"type\":\"DaysTicker\"},{\"attributes\":{\"label\":{\"value\":\"Approval Rating\"},\"renderers\":[{\"id\":\"730873e9-04ce-4c70-939c-006c329d06e5\",\"type\":\"GlyphRenderer\"}]},\"id\":\"ca8b5396-9fa8-4a11-9e37-780754c4bf90\",\"type\":\"LegendItem\"},{\"attributes\":{\"mantissas\":[1,2,5],\"max_interval\":500.0,\"num_minor_ticks\":0},\"id\":\"1085713a-785c-4c53-bd05-cccdaa9b6e1f\",\"type\":\"AdaptiveTicker\"},{\"attributes\":{\"days\":[1,4,7,10,13,16,19,22,25,28]},\"id\":\"dcbe2d8c-2765-46cd-b7c0-9e416605c8c9\",\"type\":\"DaysTicker\"},{\"attributes\":{\"base\":24,\"mantissas\":[1,2,4,6,8,12],\"max_interval\":43200000.0,\"min_interval\":3600000.0,\"num_minor_ticks\":0},\"id\":\"9a6bd3ce-5005-4347-8f6e-a22dff736dc5\",\"type\":\"AdaptiveTicker\"},{\"attributes\":{\"months\":[0,2,4,6,8,10]},\"id\":\"129e636d-fa80-4d61-acdc-ddd78bb0fa99\",\"type\":\"MonthsTicker\"},{\"attributes\":{\"days\":[1,8,15,22]},\"id\":\"32ce9d6f-7c26-4e2c-88a3-3298a272e0a8\",\"type\":\"DaysTicker\"},{\"attributes\":{\"below\":[{\"id\":\"3a2042ca-4649-44bb-bfc2-bc6575ea9f8f\",\"type\":\"DatetimeAxis\"}],\"left\":[{\"id\":\"d5038283-479f-45ad-a9b1-387888dc5dfb\",\"type\":\"LinearAxis\"}],\"plot_height\":400,\"renderers\":[{\"id\":\"3a2042ca-4649-44bb-bfc2-bc6575ea9f8f\",\"type\":\"DatetimeAxis\"},{\"id\":\"5825bf62-37e5-4866-8dfa-91ca3d6c6396\",\"type\":\"Grid\"},{\"id\":\"d5038283-479f-45ad-a9b1-387888dc5dfb\",\"type\":\"LinearAxis\"},{\"id\":\"e3dcfc2d-59c3-40a1-8725-f4c9f68b79d8\",\"type\":\"Grid\"},{\"id\":\"c5269a03-c098-432e-a546-dd0de6317731\",\"type\":\"BoxAnnotation\"},{\"id\":\"59c90b93-ab56-4131-8105-dd327f9b8740\",\"type\":\"Legend\"},{\"id\":\"730873e9-04ce-4c70-939c-006c329d06e5\",\"type\":\"GlyphRenderer\"},{\"id\":\"96169f3c-beea-495d-a9ff-e07cbc20a8de\",\"type\":\"GlyphRenderer\"}],\"title\":{\"id\":\"b0d287e9-7149-43ba-8bf5-f034a771b4ff\",\"type\":\"Title\"},\"toolbar\":{\"id\":\"6bdd9db0-f9c2-4b19-9452-bde7326afe25\",\"type\":\"Toolbar\"},\"x_range\":{\"id\":\"a5411b17-7a7c-4c0c-b24a-3651f5cb4872\",\"type\":\"DataRange1d\"},\"x_scale\":{\"id\":\"d29f3525-295d-4cc3-b303-584a81e4c706\",\"type\":\"LinearScale\"},\"y_range\":{\"id\":\"b226929e-dbbb-4a0a-a060-71d6e61cd52f\",\"type\":\"Range1d\"},\"y_scale\":{\"id\":\"63525efb-2556-458f-8c5d-93f7d23632ba\",\"type\":\"LinearScale\"}},\"id\":\"590ffd9a-bf56-4fd4-b7f9-cd672ebc5035\",\"subtype\":\"Figure\",\"type\":\"Plot\"},{\"attributes\":{\"base\":60,\"mantissas\":[1,2,5,10,15,20,30],\"max_interval\":1800000.0,\"min_interval\":1000.0,\"num_minor_ticks\":0},\"id\":\"38f982c2-5640-42f3-b6ef-c58aa1775877\",\"type\":\"AdaptiveTicker\"},{\"attributes\":{\"months\":[0,1,2,3,4,5,6,7,8,9,10,11]},\"id\":\"2f03d2c1-a4d7-4d82-95aa-9a2b2e76c301\",\"type\":\"MonthsTicker\"}],\"root_ids\":[\"590ffd9a-bf56-4fd4-b7f9-cd672ebc5035\"]},\"title\":\"Bokeh Application\",\"version\":\"0.12.16\"}};\n",
       "  var render_items = [{\"docid\":\"26651343-30b7-4f9d-a36f-34a4f505a632\",\"elementid\":\"0098871e-fa36-4b2c-ab1f-5436d8936034\",\"modelid\":\"590ffd9a-bf56-4fd4-b7f9-cd672ebc5035\"}];\n",
       "  root.Bokeh.embed.embed_items_notebook(docs_json, render_items);\n",
       "\n",
       "  }\n",
       "  if (root.Bokeh !== undefined) {\n",
       "    embed_document(root);\n",
       "  } else {\n",
       "    var attempts = 0;\n",
       "    var timer = setInterval(function(root) {\n",
       "      if (root.Bokeh !== undefined) {\n",
       "        embed_document(root);\n",
       "        clearInterval(timer);\n",
       "      }\n",
       "      attempts++;\n",
       "      if (attempts > 100) {\n",
       "        console.log(\"Bokeh: ERROR: Unable to run BokehJS code because BokehJS library is missing\")\n",
       "        clearInterval(timer);\n",
       "      }\n",
       "    }, 10, root)\n",
       "  }\n",
       "})(window);"
      ],
      "application/vnd.bokehjs_exec.v0+json": ""
     },
     "metadata": {
      "application/vnd.bokehjs_exec.v0+json": {
       "id": "590ffd9a-bf56-4fd4-b7f9-cd672ebc5035"
      }
     },
     "output_type": "display_data"
    }
   ],
   "source": [
    "p = figure(title=\"Trump Approval Rating\",x_axis_type=\"datetime\",plot_width=600, plot_height=400,\n",
    "          y_range = (20,70))\n",
    "\n",
    "p.grid.grid_line_alpha=0.3\n",
    "p.xaxis.axis_label = 'Date'\n",
    "p.yaxis.axis_label = 'Rating'\n",
    "p.line(x=df3['Date'], y=df3['Approval Rating'],\n",
    "      line_color = 'Green',line_width = 3, legend = 'Approval Rating')\n",
    "p.line(x=df3['Date'], y=df3['Disapproval Rating'],\n",
    "      line_color = 'lightcoral', line_width = 3,legend = 'Diapproval Rating')\n",
    "p.legend.location = \"bottom_left\"\n",
    "\n",
    "show(p)"
   ]
  },
  {
   "cell_type": "markdown",
   "metadata": {},
   "source": [
    "Image of graph below for GitHub"
   ]
  },
  {
   "cell_type": "code",
   "execution_count": 13,
   "metadata": {},
   "outputs": [
    {
     "data": {
      "image/png": "[encoded data removed]",
      "text/plain": [
       "<IPython.core.display.Image object>"
      ]
     },
     "execution_count": 13,
     "metadata": {
      "image/png": {
       "height": 400,
       "width": 600
      }
     },
     "output_type": "execute_result"
    }
   ],
   "source": [
    "from IPython.display import Image\n",
    "PATH = \"C:/Users/Spelk/Desktop/Georgia Tech Analytics/CSE 6040/Midterm 1- Actual/\"\n",
    "Image(filename = PATH + \"bokeh_plot.png\", width=600, height=400)"
   ]
  },
  {
   "cell_type": "markdown",
   "metadata": {},
   "source": [
    "That's it for now - my preffered visual tool is Tableau - which I am much more familiar with. In there I could creat a VIZ much more similar to the original one."
   ]
  }
 ],
 "metadata": {
  "kernelspec": {
   "display_name": "Python 3",
   "language": "python",
   "name": "python3"
  },
  "language_info": {
   "codemirror_mode": {
    "name": "ipython",
    "version": 3
   },
   "file_extension": ".py",
   "mimetype": "text/x-python",
   "name": "python",
   "nbconvert_exporter": "python",
   "pygments_lexer": "ipython3",
   "version": "3.6.5"
  }
 },
 "nbformat": 4,
 "nbformat_minor": 2
}
